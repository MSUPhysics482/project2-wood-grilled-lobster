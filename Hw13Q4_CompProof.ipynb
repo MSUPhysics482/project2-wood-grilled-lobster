{
 "cells": [
  {
   "cell_type": "code",
   "execution_count": 2,
   "metadata": {
    "collapsed": false
   },
   "outputs": [
    {
     "data": {
      "image/png": "[encoded data removed]",
      "text/plain": [
       "<matplotlib.figure.Figure at 0x7f72c05d6e10>"
      ]
     },
     "metadata": {},
     "output_type": "display_data"
    },
    {
     "name": "stdout",
     "output_type": "stream",
     "text": [
      "Spacetime interval for X1: -600233\n",
      "Spacetime interval for X2: -600233\n",
      "Intervals are identical within rounding\n"
     ]
    }
   ],
   "source": [
    "%matplotlib inline\n",
    "import matplotlib.pyplot as plt\n",
    "import numpy as np\n",
    "\n",
    "def boost_matrix( v ):\n",
    "    '''\n",
    "    Generates a boost matrix\n",
    "    '''\n",
    "    if v.shape != (3,):\n",
    "        raise ValueError(\"Bad Shape\")\n",
    "        \n",
    "    beta = v / 3e8\n",
    "    beta_norm = np.linalg.norm(beta)\n",
    "    n = beta/beta_norm\n",
    "    gamma = 1 / np.sqrt(1- np.linalg.norm(beta)**2)\n",
    "    \n",
    "    boost = np.zeros((4,4))\n",
    "    boost[0][0] = gamma\n",
    "    \n",
    "    for i in range(4):\n",
    "        for j in range(4):\n",
    "            if bool(i==0) ^ bool(j==0):\n",
    "                boost[i][j] = -gamma * beta_norm * n[j-1 if i==0 else i-1]\n",
    "            if i>0 and j>0 and i!=j:\n",
    "                boost[i][j] = (gamma-1) * n[i-1] * n[j-1]\n",
    "            if i==j and i!=0:\n",
    "                boost[i][j] = 1+(gamma-1)*n[i-1]**2\n",
    "    \n",
    "    return boost\n",
    "\n",
    "def spacetime_interval( pos_fourvec ):\n",
    "    '''\n",
    "    Calculates the spacetime interval when given position four-vector\n",
    "    '''\n",
    "    if pos_fourvec.shape != (4,1):\n",
    "        raise ValueError(\"Bad Shape\")\n",
    "    \n",
    "    ct2 = pos_fourvec[0]**2\n",
    "    r2 = pos_fourvec[1]**2 + pos_fourvec[2]**2 + pos_fourvec[3]**2\n",
    "    \n",
    "    return float(ct2-r2)\n",
    "        \n",
    "def matrix_show( mat ):\n",
    "    '''\n",
    "    pretty plots\n",
    "    '''\n",
    "    plt.imshow(mat, interpolation='none', vmin=-2, vmax=2)\n",
    "    plt.colorbar()\n",
    "    plt.axis('off')\n",
    "    plt.show()\n",
    "    \n",
    "# Make a boost matrix\n",
    "vv = np.array([1e8,1.5e8,2e8])\n",
    "b1 = boost_matrix(vv)\n",
    "matrix_show(b1)\n",
    "\n",
    "# Make a random four_vector X_1\n",
    "rnd_xn = lambda : np.random.randint(0,1000)\n",
    "X_1 = np.reshape([rnd_xn(),rnd_xn(), rnd_xn(), rnd_xn()], (4,1))\n",
    "\n",
    "# Transform to X_2 using boost matrix\n",
    "X_2 = np.dot(b1, X_1)\n",
    "\n",
    "# Check that Einstein was right\n",
    "print(\"Spacetime interval for X1:\", round(spacetime_interval(X_1)))\n",
    "print(\"Spacetime interval for X2:\", round(spacetime_interval(X_2)))\n",
    "if spacetime_interval(X_1)-spacetime_interval(X_2) < 0.001:\n",
    "    print(\"Intervals are identical within rounding\")"
   ]
  },
  {
   "cell_type": "code",
   "execution_count": null,
   "metadata": {
    "collapsed": true
   },
   "outputs": [],
   "source": []
  }
 ],
 "metadata": {
  "kernelspec": {
   "display_name": "Python 3",
   "language": "python",
   "name": "python3"
  },
  "language_info": {
   "codemirror_mode": {
    "name": "ipython",
    "version": 3
   },
   "file_extension": ".py",
   "mimetype": "text/x-python",
   "name": "python",
   "nbconvert_exporter": "python",
   "pygments_lexer": "ipython3",
   "version": "3.5.2"
  }
 },
 "nbformat": 4,
 "nbformat_minor": 1
}
