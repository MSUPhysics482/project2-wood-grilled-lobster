{
 "cells": [
  {
   "cell_type": "markdown",
   "metadata": {
    "deletable": true,
    "editable": true
   },
   "source": [
    "# Homework 9 Question:\n",
    "\n",
    "To add on to what I mentioned in the intial description, I think instead of necessarily just doing data analysis, I'd like to actually work on building a more accurate simulation of the neutron stars life. These things lose energy through a bunch of mechanisms, beyond just electromagnetic (or at least beyond the pulsar effect, there may be other electromagnetic effects that contribute to the evolution). I think it'd be really neat to try and model the whole life closely. Start it off with some initially formation values, perhaps the initial period and period derivative, but possibly values more related to the supernovae that actually creates the object. \n",
    "\n",
    "Then I can begin with a fairly simple model for the spindown evolution, like I had in the original paper, and from there add on the various other effects. For example, its thought that any irregularities in the internal structure of the neutron star would cause large gravitational waves as it spins, meaning it's losing plenty of energy there, possibly a large fraction based on what I've read so far. Hopefully by the end I'll have a system which behaves as we theoretically expect without having to do some somewhat hacky things to make the magnetic field die off in the right time period (which is something I tried while testing out my original code.\n",
    "\n",
    "I was also considering making the code adaptive in time if that was possible. Many stellar evolution codes (like MESA for main-sequence stars) will take larger timesteps during the \"boring bits\" and crank up the resolution when interesting things happen. If I could make something like that work, it'd likely speed the code up quite a bit.\n",
    "\n",
    "I have good resources there, Dr. Brown is an absolute expert on neutron stars, and Dr Couch (my research advisor for senior thesis) does a lot of work with core collapse supernovae that produce these objects. The two of them could likely point me in the right direction for solid papers to work off of. This could for the most part be done in Python, but if I really needed performance, moving the simulation to C++ wouldn't be a massive task, although I'd still obviously use python for data viz (it really has no equal).\n",
    "\n",
    "I'd like a simple prototype in the next week or so (depends how much time I need to devote to the paper for Particle, which is humorously enough also about core collapse supernovae), and from there iterate on it each week to make it stronger."
   ]
  },
  {
   "cell_type": "markdown",
   "metadata": {
    "deletable": true,
    "editable": true
   },
   "source": [
    "# Homework 10 Question: \n",
    "\n",
    "When you said graphic I took it fairly literally and [made this](http://i.imgur.com/iFjgAWW.png). It sort of sums up the high level of the code I'd like to write. The initial circles are values I want to be inputs, and I need to learn what their ranges are and where they come into play. Then I need to figure out the exact energy loss systems involved in the general simulation. The EM loss should be \"easy\" in that it's sort of well understood, although I could treat it in a bit more advanced matter. Gravitational loss will involve more research but I think that will be mostly a function of period and anisotropy (how lumpy it is and how fast those lumps are moving). I also believe there are other interesting processes (more complicated and likely less important, which are involved. It might be fun to model those too, or at least see just how strongly they effect things. The other bit there is the adapative time steps, which I still need to decide on the feasibility of.\n",
    "\n",
    "As for reflection, being that it's just me now, the work is mine to handle. I've not done a lot so far partially because of a certian group indecisiveness and whatnot, but that's sorted out now."
   ]
  },
  {
   "cell_type": "code",
   "execution_count": null,
   "metadata": {
    "collapsed": true,
    "deletable": true,
    "editable": true
   },
   "outputs": [],
   "source": []
  }
 ],
 "metadata": {
  "kernelspec": {
   "display_name": "Python 3",
   "language": "python",
   "name": "python3"
  },
  "language_info": {
   "codemirror_mode": {
    "name": "ipython",
    "version": 3
   },
   "file_extension": ".py",
   "mimetype": "text/x-python",
   "name": "python",
   "nbconvert_exporter": "python",
   "pygments_lexer": "ipython3",
   "version": "3.6.1"
  }
 },
 "nbformat": 4,
 "nbformat_minor": 1
}
