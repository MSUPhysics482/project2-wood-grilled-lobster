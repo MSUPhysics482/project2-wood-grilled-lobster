{
 "cells": [
  {
   "cell_type": "markdown",
   "metadata": {
    "deletable": true,
    "editable": true
   },
   "source": [
    "Working on a function based on a previous code I wrote, which will push a star forward through time, changing its energy based on a few parameters. In summary:\n",
    "\n",
    "* Electromagnetic:\n",
    "    * \"Normal\" loss of energy due to charge acceleration by the magnetic field. I have some code that does this to some extent but the code can be improved, and possibly changed to allow the property of \"charge starvation\" which I'm still doing some research on\n",
    "* Gravitational:\n",
    "    * Losses of energy due to lumpyness of the object. If it's not perfectly spherical, then it's hauling those bumps around at pretty substantial speeds, which will give off plenty of gravitational radiation. Possible source for the magnetic field decay and \"death\" seen in most analyses.\n",
    "* Accretion:\n",
    "    * Unlike the other modes this should **add** energy to the star (probably, I don't think you'd ever see braking from this). It's also a function of time, which gives some control on seeing how various accretion functions change the stars evolution. For instance, what difference does a constant accretion have against periodic heavy accretion. Or we could just dump another neutron star right on top of it. Might break things, might be fun. One way to find out.\n",
    "    \n",
    "Certian other values like the mass theoretically shouldn't change much, the distribution is fairly tight based on what I've seen in papers [like this](https://arxiv.org/pdf/1309.6635.pdf), but we could also play with that. I see a lot of cool options here for exploring the parameter space. "
   ]
  },
  {
   "cell_type": "code",
   "execution_count": 16,
   "metadata": {
    "collapsed": false,
    "deletable": true,
    "editable": true
   },
   "outputs": [
    {
     "data": {
      "text/plain": [
       "<matplotlib.text.Text at 0x7f6506dd8b70>"
      ]
     },
     "execution_count": 16,
     "metadata": {},
     "output_type": "execute_result"
    },
    {
     "data": {
      "image/png": "[encoded data removed]",
      "text/plain": [
       "<matplotlib.figure.Figure at 0x7f6506f6cbe0>"
      ]
     },
     "metadata": {},
     "output_type": "display_data"
    }
   ],
   "source": [
    "%matplotlib inline\n",
    "import numpy as np\n",
    "import pandas as pd\n",
    "import matplotlib.pyplot as plt\n",
    "\n",
    "def evolve( mass, period, period_dot, bumpyness = 0, max_time = 1e7, loss_grav=False, loss_em=True, accrete_function=None):\n",
    "    '''\n",
    "    Function that will evolve a neutron star with given initial parameters forward in time using most\n",
    "    likely a simple Eulerian integration. Energy flow via different means will be togglable such that\n",
    "    we can examine the effect of different processes\n",
    "    \n",
    "    Input:\n",
    "    ======\n",
    "    mass (float) : mass in solar units. Required.\n",
    "    \n",
    "    period (float) : period in seconds. Required.\n",
    "    \n",
    "    period_dot (float) : period derivative, which is unitless. Required.\n",
    "    \n",
    "    bumpyness (float) : 0-1 value of the structure irregularity. Important for gravitational energy loss.\n",
    "        Defaults to 0 (symmetric neutron star)\n",
    "    \n",
    "    max_time (float) : Time in years when simulation will cut off. Defaults to 1e7\n",
    "    \n",
    "    loss_grav (bool) : Control for loss due to gravitational modes. Defaults to False.\n",
    "    \n",
    "    loss_em (bool) : Control for loss due to electromagnetic processes. Defaults to True.\n",
    "    \n",
    "    accrete_function (function) : A function of time which will return an accretion rate. Used to turn on\n",
    "        or off accretion for the star.\n",
    "        \n",
    "    Output:\n",
    "    ======\n",
    "    data (DataFrame) : A dateframe object containing the various energy values over time.\n",
    "    '''\n",
    "    \n",
    "    # Constant Stuff\n",
    "    mass *= 2e30\n",
    "    radius = 1e4 # meters, might be function later\n",
    "    MoI = (2/5) * mass * radius**2 # moment of interia\n",
    "    dt = 3.15e7 # timestep in seconds\n",
    "    \n",
    "    # Some initial values\n",
    "    PPdot = period*period_dot\n",
    "    energy_initial = 2 * np.pi**2 * MoI / period**2\n",
    "    energy_dot_initial = 4 * np.pi**2 * MoI * period_dot / period**3\n",
    "    \n",
    "    # Start some lists\n",
    "    period_data = [period]\n",
    "    period_dot_data = [period_dot]\n",
    "    energy_data = [energy_initial]\n",
    "    energy_dot_data = [energy_dot_initial]\n",
    "    \n",
    "    # EM prototype\n",
    "    for i in range(1000):\n",
    "        energy_dot_new = -4 * np.pi**2 * MoI * period_dot_data[-1] / period_data[-1]**3\n",
    "        energy_new = energy_data[-1] + energy_dot_new * dt\n",
    "        period_new = np.sqrt(2 * np.pi**2 * MoI / energy_new )\n",
    "        period_dot_new = PPdot / period_new\n",
    "        \n",
    "        period_data.append(period_new)\n",
    "        period_dot_data.append(period_dot_new)\n",
    "        energy_data.append(energy_new)\n",
    "        energy_dot_data.append(energy_dot_new)\n",
    "    \n",
    "    \n",
    "    return np.array([period_data, period_dot_data])\n",
    "\n",
    "a = evolve(1.4,0.005,6.3e-12)\n",
    "b = evolve(1.4,0.003,6.3e-12)\n",
    "c = evolve(1.4,0.001,6.3e-12)\n",
    "plt.loglog(a[0], a[1])\n",
    "plt.loglog(b[0], b[1]) # try out a few periods to check effect\n",
    "plt.loglog(c[0], c[1])\n",
    "plt.xlabel(\"period\")\n",
    "plt.ylabel(\"period derivative\")"
   ]
  },
  {
   "cell_type": "code",
   "execution_count": null,
   "metadata": {
    "collapsed": true,
    "deletable": true,
    "editable": true
   },
   "outputs": [],
   "source": []
  }
 ],
 "metadata": {
  "kernelspec": {
   "display_name": "Python 3",
   "language": "python",
   "name": "python3"
  },
  "language_info": {
   "codemirror_mode": {
    "name": "ipython",
    "version": 3
   },
   "file_extension": ".py",
   "mimetype": "text/x-python",
   "name": "python",
   "nbconvert_exporter": "python",
   "pygments_lexer": "ipython3",
   "version": "3.6.0"
  }
 },
 "nbformat": 4,
 "nbformat_minor": 1
}
